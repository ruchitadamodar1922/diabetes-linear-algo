{
 "cells": [
  {
   "cell_type": "code",
   "execution_count": 1,
   "metadata": {},
   "outputs": [],
   "source": [
    "import numpy as np"
   ]
  },
  {
   "cell_type": "code",
   "execution_count": 2,
   "metadata": {},
   "outputs": [],
   "source": [
    "train_data=np.loadtxt(\"diabeties_train.csv\",delimiter=\",\")"
   ]
  },
  {
   "cell_type": "code",
   "execution_count": 3,
   "metadata": {},
   "outputs": [
    {
     "name": "stdout",
     "output_type": "stream",
     "text": [
      "(331, 11)\n"
     ]
    }
   ],
   "source": [
    "print(train_data.shape)"
   ]
  },
  {
   "cell_type": "code",
   "execution_count": 6,
   "metadata": {},
   "outputs": [
    {
     "name": "stdout",
     "output_type": "stream",
     "text": [
      "(331, 10)\n",
      "(331, 1)\n"
     ]
    }
   ],
   "source": [
    "x_train=train_data[:,:10]\n",
    "y_train=train_data[:,10:]\n",
    "print(x_train.shape)\n",
    "print(y_train.shape)"
   ]
  },
  {
   "cell_type": "code",
   "execution_count": 10,
   "metadata": {},
   "outputs": [],
   "source": [
    "def fit(x_train,y_train):\n",
    "    num=(x_train*y_train).mean()-x_train.mean()*y_train.mean()\n",
    "    dem=(x_train**2).mean()-x_train.mean()**2\n",
    "    m=num/dem\n",
    "    c=y_train.mean()-m*x_train.mean()\n",
    "    return m,c\n",
    "\n",
    "def predict(x,m,c):\n",
    "    return m*x+c\n",
    "\n",
    "def score(y_truth,y_predict):\n",
    "    u=((y_truth-y_predict)**2).sum()\n",
    "    v=((y_truth-y_truth.mean())**2).sum()\n",
    "    return 1-u/v\n",
    "\n",
    "def cost(x,y,m,c):\n",
    "    return ((y-m*x-c)**2).mean()"
   ]
  },
  {
   "cell_type": "code",
   "execution_count": 11,
   "metadata": {},
   "outputs": [],
   "source": []
  },
  {
   "cell_type": "code",
   "execution_count": 14,
   "metadata": {},
   "outputs": [
    {
     "data": {
      "text/plain": [
       "(111, 10)"
      ]
     },
     "execution_count": 14,
     "metadata": {},
     "output_type": "execute_result"
    }
   ],
   "source": [
    "y_test=np.loadtxt(\"diabeties_test.csv\",delimiter=\",\")\n",
    "y_test.shape"
   ]
  },
  {
   "cell_type": "code",
   "execution_count": 18,
   "metadata": {},
   "outputs": [
    {
     "data": {
      "text/plain": [
       "array([[159.54486532, 170.55289528, 134.79467521, ..., 133.97077638,\n",
       "        137.51735278, 144.51429537],\n",
       "       [118.28211482, 131.88220243, 120.36532059, ..., 133.97077638,\n",
       "        142.64235955, 115.94759048],\n",
       "       [137.43982041, 170.55289528, 150.53578933, ..., 193.85183532,\n",
       "        183.98785255, 151.23587299],\n",
       "       ...,\n",
       "       [153.65018668, 131.88220243, 144.85149812, ..., 163.91130585,\n",
       "        159.47552899, 147.87508418],\n",
       "       [158.07119566, 131.88220243, 136.10643472, ..., 163.31249526,\n",
       "        160.02340053, 178.12218348],\n",
       "       [156.597526  , 170.55289528, 154.03381469, ..., 133.97077638,\n",
       "        156.90440982, 152.9162674 ]])"
      ]
     },
     "execution_count": 18,
     "metadata": {},
     "output_type": "execute_result"
    }
   ],
   "source": [
    "m,c=fit(x_train,y_train)\n",
    "y_pred=predict(y_test,m,c)\n",
    "y_pred"
   ]
  },
  {
   "cell_type": "code",
   "execution_count": null,
   "metadata": {},
   "outputs": [],
   "source": []
  }
 ],
 "metadata": {
  "kernelspec": {
   "display_name": "Python 3",
   "language": "python",
   "name": "python3"
  },
  "language_info": {
   "codemirror_mode": {
    "name": "ipython",
    "version": 3
   },
   "file_extension": ".py",
   "mimetype": "text/x-python",
   "name": "python",
   "nbconvert_exporter": "python",
   "pygments_lexer": "ipython3",
   "version": "3.8.5"
  }
 },
 "nbformat": 4,
 "nbformat_minor": 4
}
